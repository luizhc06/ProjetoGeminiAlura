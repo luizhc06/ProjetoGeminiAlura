{
  "nbformat": 4,
  "nbformat_minor": 0,
  "metadata": {
    "colab": {
      "provenance": [],
      "toc_visible": true,
      "authorship_tag": "ABX9TyNQJgflnABKLZst2TsN5MmL",
      "include_colab_link": true
    },
    "kernelspec": {
      "name": "python3",
      "display_name": "Python 3"
    },
    "language_info": {
      "name": "python"
    }
  },
  "cells": [
    {
      "cell_type": "markdown",
      "metadata": {
        "id": "view-in-github",
        "colab_type": "text"
      },
      "source": [
        "<a href=\"https://colab.research.google.com/github/luizhc06/ProjetoGeminiAlura/blob/main/GeminiHardware.ipynb\" target=\"_parent\"><img src=\"https://colab.research.google.com/assets/colab-badge.svg\" alt=\"Open In Colab\"/></a>"
      ]
    },
    {
      "cell_type": "markdown",
      "source": [
        "***Partida:***"
      ],
      "metadata": {
        "id": "J0paOt-U92YQ"
      }
    },
    {
      "cell_type": "code",
      "execution_count": null,
      "metadata": {
        "id": "YkZ1ZObl8_Ox"
      },
      "outputs": [],
      "source": [
        "!pip install -q -U google-generativeai\n"
      ]
    },
    {
      "cell_type": "code",
      "source": [
        "import google.generativeai as genai\n",
        "import requests\n",
        "from bs4 import BeautifulSoup"
      ],
      "metadata": {
        "id": "Tryhajwu9M2J"
      },
      "execution_count": null,
      "outputs": []
    },
    {
      "cell_type": "markdown",
      "source": [
        "***Geração***"
      ],
      "metadata": {
        "id": "rD51ryBo9zs-"
      }
    },
    {
      "cell_type": "code",
      "source": [
        "generation_config = {\n",
        "    \"candidate_count\": 1,\n",
        "    \"temperature\": 0.5,\n",
        "}"
      ],
      "metadata": {
        "id": "pl7gQCXc9WRW"
      },
      "execution_count": null,
      "outputs": []
    },
    {
      "cell_type": "markdown",
      "source": [
        "***Segurança:***"
      ],
      "metadata": {
        "id": "JZpBhQwv9u-o"
      }
    },
    {
      "cell_type": "code",
      "source": [
        "def recomendar_componentes_usando_IA(componentes_encontrados):\n",
        "    candidate_count = 3  # Quantidade de candidatos a serem gerados pela IA\n",
        "    generation_config = {\n",
        "        \"candidate_count\": candidate_count,\n",
        "        \"temperature\": 0.5,\n",
        "    }\n",
        "\n",
        "    safety_settings = {\n",
        "        \"HARASSMENT\": \"BLOCK_SOME\",\n",
        "        \"HATE\": \"BLOCK_SOME\",\n",
        "        \"SEXUAL\": \"BLOCK_SOME\",\n",
        "        \"DANGEROUS\": \"BLOCK_SOME\",\n",
        "    }\n",
        "\n",
        "    model = genai.GenerativeModel(model_name='gemini-1.0-pro',\n",
        "                                   generation_config=generation_config,\n",
        "                                   safety_settings=safety_settings)\n",
        "\n",
        "    recomendações = []\n",
        "    for componente in componentes_encontrados:\n",
        "        prompt = f\"Recomende uma opção de {componente['nome']} dentro do orçamento. Usar para {uso}.\"\n",
        "\n",
        "        try:\n",
        "            response = model.generate(prompt)\n",
        "            recomendações.append({'nome': componente['nome'], 'recomendação': response.candidates[0].text})\n",
        "        except Exception as e:\n",
        "            print(f\"Erro ao gerar recomendação para {componente['nome']}: {str(e)}\")\n",
        "\n",
        "    return recomendações\n"
      ],
      "metadata": {
        "id": "71jDkscz9ZGp"
      },
      "execution_count": null,
      "outputs": []
    },
    {
      "cell_type": "code",
      "source": [
        "model = genai.GenerativeModel(model_name='gemini-1.5-pro-latest',\n",
        "                             generation_config=generation_config)"
      ],
      "metadata": {
        "id": "0uH5DUFH-EZT"
      },
      "execution_count": null,
      "outputs": []
    },
    {
      "cell_type": "code",
      "source": [
        "import googleapiclient.discovery\n",
        "\n",
        "def pesquisar_no_google(query, api_key, cx):\n",
        "    \"\"\"\n",
        "    Realiza uma pesquisa no Google usando a API Custom Search e retorna os resultados.\n",
        "\n",
        "    Argumentos:\n",
        "        query (str): Termo de pesquisa.\n",
        "        api_key (str): Chave de API do Google.\n",
        "        cx (str): ID da Pesquisa Customizada.\n",
        "\n",
        "    Retorno:\n",
        "        Lista de dicionários contendo informações sobre os resultados da pesquisa.\n",
        "    \"\"\"\n",
        "\n",
        "    service = googleapiclient.discovery.build('customsearch', 'v1', developerKey=api_key)\n",
        "    try:\n",
        "        resultados = service.cse().list(q=query, cx=cx).execute()\n",
        "        return resultados.get('items', [])\n",
        "    except Exception as e:\n",
        "        print(f\"Erro ao realizar a pesquisa no Google: {str(e)}\")\n",
        "        return []\n",
        "\n",
        "# Configurações da API de Pesquisa Customizada do Google\n",
        "api_key = ''  # Substitua com sua chave de API válida\n",
        "cx = ''  # Substitua com seu ID de Pesquisa Customizada\n",
        "\n",
        "def capturar_preferencias():\n",
        "    \"\"\"\n",
        "    Captura as preferências do usuário (orçamento, uso, marcas preferidas).\n",
        "\n",
        "    Retorno:\n",
        "        Tuple contendo (orçamento, uso, preferencia_processador, preferencia_placa_video).\n",
        "    \"\"\"\n",
        "\n",
        "    orçamento = float(input(\"Qual é o seu orçamento máximo? R$ \"))\n",
        "    uso = input(\"Para que você vai usar o computador? \").lower()\n",
        "\n",
        "    while True:\n",
        "        preferencia_processador = input(\"Qual marca de processador você prefere? (AMD, Intel, Nenhuma) \").lower()\n",
        "        if preferencia_processador in ['amd', 'intel', 'nenhuma']:\n",
        "            break\n",
        "        else:\n",
        "            print(\"Opção inválida. Por favor, escolha entre AMD, Intel ou Nenhuma.\")\n",
        "\n",
        "    while True:\n",
        "        preferencia_placa_video = input(\"Qual marca de placa de vídeo você prefere? (AMD, Intel, Nvidia, Nenhuma) \").lower()\n",
        "        if preferencia_placa_video in ['amd', 'intel', 'nvidia', 'nenhuma']:\n",
        "            break\n",
        "        else:\n",
        "            print(\"Opção inválida. Por favor, escolha entre AMD, Intel, Nvidia ou Nenhuma.\")\n",
        "\n",
        "    return orçamento, uso, preferencia_processador, preferencia_placa_video\n",
        "\n",
        "# Capturar preferências do usuário\n",
        "orçamento, uso, pref_processador, pref_placa_video = capturar_preferencias()\n",
        "\n",
        "# Realizar uma pesquisa no Google com base nas preferências do usuário\n",
        "query = f\"{pref_processador} {pref_placa_video} gaming components\"\n",
        "resultados_google = pesquisar_no_google(query, api_key, cx)\n",
        "\n",
        "# Processar e exibir os resultados da pesquisa do Google\n",
        "if resultados_google:\n",
        "    for item in resultados_google:\n",
        "        nome = item['title']\n",
        "        link = item['link']\n",
        "        print(f\"Nome: {nome}\")\n",
        "        print(f\"Link: {link}\")\n",
        "        print(\"-\" * 30)\n",
        "else:\n",
        "    print(\"Nenhum resultado encontrado na pesquisa do Google.\")\n"
      ],
      "metadata": {
        "id": "4GxluAXi_lwI"
      },
      "execution_count": null,
      "outputs": []
    }
  ]
}